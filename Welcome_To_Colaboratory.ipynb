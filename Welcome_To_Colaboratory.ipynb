{
  "nbformat": 4,
  "nbformat_minor": 0,
  "metadata": {
    "colab": {
      "name": "Welcome To Colaboratory",
      "version": "0.3.2",
      "provenance": [],
      "collapsed_sections": [],
      "toc_visible": true,
      "include_colab_link": true
    },
    "kernelspec": {
      "name": "python3",
      "display_name": "Python 3"
    },
    "accelerator": "GPU"
  },
  "cells": [
    {
      "cell_type": "markdown",
      "metadata": {
        "id": "view-in-github",
        "colab_type": "text"
      },
      "source": [
        "<a href=\"https://colab.research.google.com/github/madhusudan-vishwakarma/aimadhusudan/blob/master/Welcome_To_Colaboratory.ipynb\" target=\"_parent\"><img src=\"https://colab.research.google.com/assets/colab-badge.svg\" alt=\"Open In Colab\"/></a>"
      ]
    },
    {
      "cell_type": "code",
      "metadata": {
        "id": "h7pUEVRuE3kH",
        "colab_type": "code",
        "colab": {
          "base_uri": "https://localhost:8080/",
          "height": 34
        },
        "outputId": "f1072ed8-7df7-498c-a4cd-a89003cd3979"
      },
      "source": [
        "import numpy as np\n",
        "import pandas as pd\n",
        "from keras.datasets import mnist\n",
        "from keras.models import Sequential\n",
        "from keras.layers.core import Dense,Dropout,Activation,Flatten\n",
        "from keras.layers.convolutional import Conv2D,MaxPooling2D\n",
        "from keras.utils import np_utils\n",
        "from sklearn import metrics\n",
        "import keras as keras\n",
        "import matplotlib.pyplot as plt\n",
        "%matplotlib inline"
      ],
      "execution_count": 3,
      "outputs": [
        {
          "output_type": "stream",
          "text": [
            "Using TensorFlow backend.\n"
          ],
          "name": "stderr"
        }
      ]
    },
    {
      "cell_type": "code",
      "metadata": {
        "id": "9G7kfsZVE3lF",
        "colab_type": "code",
        "colab": {
          "base_uri": "https://localhost:8080/",
          "height": 119
        },
        "outputId": "7484c708-eb0c-4f44-d355-0291ec039cfb"
      },
      "source": [
        "%matplotlib inline\n",
        "#Load/Prep the Data\n",
        "(xtrain,ytrain),(xtest,ytest)=mnist.load_data()\n",
        "x_train=xtrain.reshape(xtrain.shape[0],28,28,1).astype('float32')\n",
        "x_test=xtest.reshape(xtest.shape[0],28,28,1).astype('float32')\n",
        "x_train/=255\n",
        "x_test/=255\n",
        "y_train=np_utils.to_categorical(ytrain,10)\n",
        "y_test=np_utils.to_categorical(ytest,10)\n",
        "print('---- THE DATA----')\n",
        "print('x_train.shape:',x_train.shape)\n",
        "print(x_train.shape[0],'train samples')\n",
        "print(x_test.shape[0],'test samples')"
      ],
      "execution_count": 4,
      "outputs": [
        {
          "output_type": "stream",
          "text": [
            "Downloading data from https://s3.amazonaws.com/img-datasets/mnist.npz\n",
            "11493376/11490434 [==============================] - 0s 0us/step\n",
            "---- THE DATA----\n",
            "x_train.shape: (60000, 28, 28, 1)\n",
            "60000 train samples\n",
            "10000 test samples\n"
          ],
          "name": "stdout"
        }
      ]
    },
    {
      "cell_type": "markdown",
      "metadata": {
        "id": "eucFcf7TFrJX",
        "colab_type": "text"
      },
      "source": [
        ""
      ]
    },
    {
      "cell_type": "code",
      "metadata": {
        "id": "kE_Oe2eNGW78",
        "colab_type": "code",
        "colab": {
          "base_uri": "https://localhost:8080/",
          "height": 224
        },
        "outputId": "632c6c91-5c90-429d-dc68-c2ee496f4441"
      },
      "source": [
        "TRAIN = False\n",
        "BATCH_SIZE = 32\n",
        "EPOCHS = 10\n",
        "\n",
        "#Define Model\n",
        "model2 = Sequential()\n",
        "\n",
        "#1st Conv Layer\n",
        "model2.add(Conv2D(32,3,3,input_shape=(28,28,1)))\n",
        "model2.add(Activation('relu'))\n",
        "\n",
        "#2nd Conv Layer\n",
        "model2.add(Conv2D(32,3,3))\n",
        "model2.add(Activation('relu'))\n",
        "\n",
        "#Fully Connected Layer\n",
        "model2.add(Flatten())\n",
        "model2.add(Dense(128))\n",
        "model2.add(Activation('relu'))\n",
        "\n",
        "\n",
        "#Prediction Layer\n",
        "model2.add(Dense(10))\n",
        "model2.add(Activation('softmax'))"
      ],
      "execution_count": 5,
      "outputs": [
        {
          "output_type": "stream",
          "text": [
            "WARNING: Logging before flag parsing goes to stderr.\n",
            "W0727 11:24:30.489218 140258248546176 deprecation_wrapper.py:119] From /usr/local/lib/python3.6/dist-packages/keras/backend/tensorflow_backend.py:74: The name tf.get_default_graph is deprecated. Please use tf.compat.v1.get_default_graph instead.\n",
            "\n",
            "/usr/local/lib/python3.6/dist-packages/ipykernel_launcher.py:9: UserWarning: Update your `Conv2D` call to the Keras 2 API: `Conv2D(32, (3, 3), input_shape=(28, 28, 1...)`\n",
            "  if __name__ == '__main__':\n",
            "W0727 11:24:30.526229 140258248546176 deprecation_wrapper.py:119] From /usr/local/lib/python3.6/dist-packages/keras/backend/tensorflow_backend.py:517: The name tf.placeholder is deprecated. Please use tf.compat.v1.placeholder instead.\n",
            "\n",
            "W0727 11:24:30.533712 140258248546176 deprecation_wrapper.py:119] From /usr/local/lib/python3.6/dist-packages/keras/backend/tensorflow_backend.py:4138: The name tf.random_uniform is deprecated. Please use tf.random.uniform instead.\n",
            "\n",
            "/usr/local/lib/python3.6/dist-packages/ipykernel_launcher.py:13: UserWarning: Update your `Conv2D` call to the Keras 2 API: `Conv2D(32, (3, 3))`\n",
            "  del sys.path[0]\n"
          ],
          "name": "stderr"
        }
      ]
    },
    {
      "cell_type": "code",
      "metadata": {
        "id": "UxiJhLUkHsxu",
        "colab_type": "code",
        "colab": {
          "base_uri": "https://localhost:8080/",
          "height": 462
        },
        "outputId": "ea36b3d1-1ee3-4e99-9479-5823a0fa2ed6"
      },
      "source": [
        "#Loss and Optimizer\n",
        "model2.compile(loss='categorical_crossentropy',optimizer = 'adam',metrics=['accuracy'])\n",
        "\n",
        "#Store Training Results\n",
        "#early_stopping = keras.callbacks.EarlyStopping(monitor = 'val_acc',patience =10,verbose=1,node='auto')\n",
        "\n",
        "#Train the model2\n",
        "model2.fit(x_train,y_train,batch_size=BATCH_SIZE, nb_epoch =EPOCHS, validation_data=(x_test,y_test))\n",
        "\n",
        "loss_and_metrics = model2.evaluate(x_test,y_test)\n",
        "print(loss_and_metrics)"
      ],
      "execution_count": 7,
      "outputs": [
        {
          "output_type": "stream",
          "text": [
            "/usr/local/lib/python3.6/dist-packages/ipykernel_launcher.py:7: UserWarning: The `nb_epoch` argument in `fit` has been renamed `epochs`.\n",
            "  import sys\n"
          ],
          "name": "stderr"
        },
        {
          "output_type": "stream",
          "text": [
            "Train on 60000 samples, validate on 10000 samples\n",
            "Epoch 1/10\n",
            "60000/60000 [==============================] - 11s 184us/step - loss: 0.0056 - acc: 0.9983 - val_loss: 0.0765 - val_acc: 0.9863\n",
            "Epoch 2/10\n",
            "60000/60000 [==============================] - 11s 176us/step - loss: 0.0016 - acc: 0.9995 - val_loss: 0.0811 - val_acc: 0.9859\n",
            "Epoch 3/10\n",
            "60000/60000 [==============================] - 10s 174us/step - loss: 0.0037 - acc: 0.9991 - val_loss: 0.0718 - val_acc: 0.9875\n",
            "Epoch 4/10\n",
            "60000/60000 [==============================] - 10s 174us/step - loss: 0.0025 - acc: 0.9994 - val_loss: 0.0732 - val_acc: 0.9856\n",
            "Epoch 5/10\n",
            "60000/60000 [==============================] - 10s 174us/step - loss: 0.0043 - acc: 0.9988 - val_loss: 0.0708 - val_acc: 0.9885\n",
            "Epoch 6/10\n",
            "60000/60000 [==============================] - 10s 174us/step - loss: 0.0021 - acc: 0.9995 - val_loss: 0.0760 - val_acc: 0.9886\n",
            "Epoch 7/10\n",
            "60000/60000 [==============================] - 10s 173us/step - loss: 3.2159e-04 - acc: 1.0000 - val_loss: 0.0747 - val_acc: 0.9893\n",
            "Epoch 8/10\n",
            "60000/60000 [==============================] - 10s 174us/step - loss: 0.0045 - acc: 0.9991 - val_loss: 0.0822 - val_acc: 0.9857\n",
            "Epoch 9/10\n",
            "60000/60000 [==============================] - 10s 174us/step - loss: 0.0034 - acc: 0.9991 - val_loss: 0.0880 - val_acc: 0.9887\n",
            "Epoch 10/10\n",
            "60000/60000 [==============================] - 10s 174us/step - loss: 0.0027 - acc: 0.9995 - val_loss: 0.0878 - val_acc: 0.9886\n",
            "10000/10000 [==============================] - 0s 48us/step\n",
            "[0.08778167013127515, 0.9886]\n"
          ],
          "name": "stdout"
        }
      ]
    },
    {
      "cell_type": "code",
      "metadata": {
        "id": "uODjL5W9LSJ8",
        "colab_type": "code",
        "colab": {}
      },
      "source": [
        "#Class work 1\n",
        "1. Change the number of fileter and see if there is any effect on the accuracy?"
      ],
      "execution_count": 0,
      "outputs": []
    },
    {
      "cell_type": "code",
      "metadata": {
        "id": "QVwQrymrLv7h",
        "colab_type": "code",
        "colab": {}
      },
      "source": [
        "#Class work 2\n",
        "2. Inscrease the nuber of vvonvolution blocks and see if there is any effect on the accuracy?"
      ],
      "execution_count": 0,
      "outputs": []
    },
    {
      "cell_type": "code",
      "metadata": {
        "id": "E0KyQOfkMVSd",
        "colab_type": "code",
        "colab": {}
      },
      "source": [
        "#Class work 3\n",
        "3. Please rerun this on the CIFAR 10, what is accuracy?"
      ],
      "execution_count": 0,
      "outputs": []
    },
    {
      "cell_type": "code",
      "metadata": {
        "id": "401VlBHPMd4L",
        "colab_type": "code",
        "colab": {}
      },
      "source": [
        "#Class work 4\n",
        "4. Please rerun this on the CIFAR 100, what is the accuracy?"
      ],
      "execution_count": 0,
      "outputs": []
    }
  ]
}